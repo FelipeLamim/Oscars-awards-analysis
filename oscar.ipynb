{
 "cells": [
  {
   "cell_type": "code",
   "execution_count": 2,
   "id": "9eb18350",
   "metadata": {},
   "outputs": [],
   "source": [
    "import pandas as pd\n",
    "import numpy as np\n",
    "import matplotlib.pyplot as plt\n",
    "\n",
    "df = pd.read_csv('../dados/The_Oscar_Award_Demographics_1928-2025 - The_Oscar_Award_Demographics_1928-2025_v3.csv')"
   ]
  },
  {
   "cell_type": "markdown",
   "id": "305de602",
   "metadata": {},
   "source": [
    "| Objetivo           | Comando principal                         |\n",
    "| ------------------ | ----------------------------------------- |\n",
    "| Ver dados          | `df.head()`, `df.info()`, `df.describe()` |\n",
    "| Selecionar colunas | `df['col']`, `df[['col1', 'col2']]`       |\n",
    "| Filtrar linhas     | `df[df['col'] > 10]`                      |\n",
    "| Ordenar            | `df.sort_values(by='col')`                |\n",
    "| Valores nulos      | `df.isnull().sum()`, `df.fillna()`        |\n",
    "| Agrupar/resumir    | `df.groupby('col').mean()`                |\n",
    "| Contar             | `df['col'].value_counts()`                |\n",
    "| Transformar        | `df['col'].apply(func)`                   |\n",
    "| Mesclar datasets   | `pd.merge()`, `pd.concat()`               |\n",
    "| Exportar/Importar  | `df.to_csv()`, `pd.read_csv()`            |"
   ]
  },
  {
   "cell_type": "markdown",
   "id": "09edf7de",
   "metadata": {},
   "source": [
    "# Initial analysis"
   ]
  },
  {
   "cell_type": "code",
   "execution_count": 11,
   "id": "9e7d470c",
   "metadata": {},
   "outputs": [
    {
     "data": {
      "text/html": [
       "<div>\n",
       "<style scoped>\n",
       "    .dataframe tbody tr th:only-of-type {\n",
       "        vertical-align: middle;\n",
       "    }\n",
       "\n",
       "    .dataframe tbody tr th {\n",
       "        vertical-align: top;\n",
       "    }\n",
       "\n",
       "    .dataframe thead th {\n",
       "        text-align: right;\n",
       "    }\n",
       "</style>\n",
       "<table border=\"1\" class=\"dataframe\">\n",
       "  <thead>\n",
       "    <tr style=\"text-align: right;\">\n",
       "      <th></th>\n",
       "      <th>Name</th>\n",
       "      <th>Category</th>\n",
       "      <th>Film</th>\n",
       "      <th>Win_Oscar?</th>\n",
       "      <th>Year_Ceremony</th>\n",
       "      <th>Birth_Date</th>\n",
       "      <th>Birth_Place</th>\n",
       "      <th>Gender</th>\n",
       "      <th>Race or Ethnicity</th>\n",
       "      <th>Sexual orientation</th>\n",
       "      <th>Religion</th>\n",
       "      <th>Link</th>\n",
       "    </tr>\n",
       "  </thead>\n",
       "  <tbody>\n",
       "    <tr>\n",
       "      <th>0</th>\n",
       "      <td>Richard Barthelmess</td>\n",
       "      <td>ACTOR</td>\n",
       "      <td>The Noose</td>\n",
       "      <td>False</td>\n",
       "      <td>1928</td>\n",
       "      <td>1895-05-09</td>\n",
       "      <td>New York City</td>\n",
       "      <td>Male</td>\n",
       "      <td>White</td>\n",
       "      <td>Straight</td>\n",
       "      <td>Na</td>\n",
       "      <td>http://www.nndb.com/people/137/000068930/</td>\n",
       "    </tr>\n",
       "    <tr>\n",
       "      <th>1</th>\n",
       "      <td>Emil Jannings</td>\n",
       "      <td>ACTOR</td>\n",
       "      <td>The Last Command</td>\n",
       "      <td>True</td>\n",
       "      <td>1928</td>\n",
       "      <td>1884-07-23</td>\n",
       "      <td>Rorschach, Switzerland</td>\n",
       "      <td>Male</td>\n",
       "      <td>White</td>\n",
       "      <td>Bisexual</td>\n",
       "      <td>Na</td>\n",
       "      <td>/people/738/000063549/</td>\n",
       "    </tr>\n",
       "    <tr>\n",
       "      <th>2</th>\n",
       "      <td>Louise Dresser</td>\n",
       "      <td>ACTRESS</td>\n",
       "      <td>A Ship Comes In</td>\n",
       "      <td>False</td>\n",
       "      <td>1928</td>\n",
       "      <td>1878-10-05</td>\n",
       "      <td>Evansville, ID</td>\n",
       "      <td>Female</td>\n",
       "      <td>White</td>\n",
       "      <td>Straight</td>\n",
       "      <td>Na</td>\n",
       "      <td>https://www.imdb.com/fr/name/nm0237571/</td>\n",
       "    </tr>\n",
       "    <tr>\n",
       "      <th>3</th>\n",
       "      <td>Janet Gaynor</td>\n",
       "      <td>ACTRESS</td>\n",
       "      <td>7th Heaven</td>\n",
       "      <td>True</td>\n",
       "      <td>1928</td>\n",
       "      <td>1906-10-06</td>\n",
       "      <td>Philadelphia, PA</td>\n",
       "      <td>Female</td>\n",
       "      <td>White</td>\n",
       "      <td>Straight</td>\n",
       "      <td>Na</td>\n",
       "      <td>/people/129/000043000/</td>\n",
       "    </tr>\n",
       "    <tr>\n",
       "      <th>4</th>\n",
       "      <td>Gloria Swanson</td>\n",
       "      <td>ACTRESS</td>\n",
       "      <td>Sadie Thompson</td>\n",
       "      <td>False</td>\n",
       "      <td>1928</td>\n",
       "      <td>1897-03-27</td>\n",
       "      <td>Chicago, IL</td>\n",
       "      <td>Female</td>\n",
       "      <td>White</td>\n",
       "      <td>Straight</td>\n",
       "      <td>Na</td>\n",
       "      <td>http://www.nndb.com/people/979/000043850/</td>\n",
       "    </tr>\n",
       "  </tbody>\n",
       "</table>\n",
       "</div>"
      ],
      "text/plain": [
       "                  Name Category              Film  Win_Oscar?  Year_Ceremony  \\\n",
       "0  Richard Barthelmess    ACTOR         The Noose       False           1928   \n",
       "1        Emil Jannings    ACTOR  The Last Command        True           1928   \n",
       "2       Louise Dresser  ACTRESS   A Ship Comes In       False           1928   \n",
       "3         Janet Gaynor  ACTRESS        7th Heaven        True           1928   \n",
       "4       Gloria Swanson  ACTRESS    Sadie Thompson       False           1928   \n",
       "\n",
       "   Birth_Date             Birth_Place  Gender Race or Ethnicity  \\\n",
       "0  1895-05-09           New York City    Male             White   \n",
       "1  1884-07-23  Rorschach, Switzerland    Male             White   \n",
       "2  1878-10-05          Evansville, ID  Female             White   \n",
       "3  1906-10-06        Philadelphia, PA  Female             White   \n",
       "4  1897-03-27             Chicago, IL  Female             White   \n",
       "\n",
       "  Sexual orientation Religion                                       Link  \n",
       "0           Straight       Na  http://www.nndb.com/people/137/000068930/  \n",
       "1           Bisexual       Na                     /people/738/000063549/  \n",
       "2           Straight       Na    https://www.imdb.com/fr/name/nm0237571/  \n",
       "3           Straight       Na                     /people/129/000043000/  \n",
       "4           Straight       Na  http://www.nndb.com/people/979/000043850/  "
      ]
     },
     "execution_count": 11,
     "metadata": {},
     "output_type": "execute_result"
    }
   ],
   "source": [
    "df.head()        "
   ]
  },
  {
   "cell_type": "code",
   "execution_count": 12,
   "id": "2632fc09",
   "metadata": {},
   "outputs": [
    {
     "name": "stdout",
     "output_type": "stream",
     "text": [
      "Número de linhas: 2331\n",
      "Número de colunas: 12\n"
     ]
    }
   ],
   "source": [
    "lines, columns = df.shape\n",
    "print(f'Número de linhas: {lines}')\n",
    "print(f'Número de colunas: {columns}')"
   ]
  },
  {
   "cell_type": "code",
   "execution_count": 35,
   "id": "92309874",
   "metadata": {},
   "outputs": [
    {
     "data": {
      "text/html": [
       "<div>\n",
       "<style scoped>\n",
       "    .dataframe tbody tr th:only-of-type {\n",
       "        vertical-align: middle;\n",
       "    }\n",
       "\n",
       "    .dataframe tbody tr th {\n",
       "        vertical-align: top;\n",
       "    }\n",
       "\n",
       "    .dataframe thead th {\n",
       "        text-align: right;\n",
       "    }\n",
       "</style>\n",
       "<table border=\"1\" class=\"dataframe\">\n",
       "  <thead>\n",
       "    <tr style=\"text-align: right;\">\n",
       "      <th></th>\n",
       "      <th>Name</th>\n",
       "      <th>Category</th>\n",
       "      <th>Film</th>\n",
       "      <th>Win_Oscar?</th>\n",
       "      <th>Year_Ceremony</th>\n",
       "      <th>Birth_Date</th>\n",
       "      <th>Birth_Place</th>\n",
       "      <th>Gender</th>\n",
       "      <th>Race or Ethnicity</th>\n",
       "      <th>Sexual orientation</th>\n",
       "      <th>Religion</th>\n",
       "      <th>Link</th>\n",
       "    </tr>\n",
       "  </thead>\n",
       "  <tbody>\n",
       "    <tr>\n",
       "      <th>2310</th>\n",
       "      <td>Sebastian Stan</td>\n",
       "      <td>ACTOR</td>\n",
       "      <td>The Apprentice</td>\n",
       "      <td>False</td>\n",
       "      <td>2025</td>\n",
       "      <td>1983-08-13</td>\n",
       "      <td>Constanta, Romania</td>\n",
       "      <td>Male</td>\n",
       "      <td>White</td>\n",
       "      <td>Straight</td>\n",
       "      <td>NaN</td>\n",
       "      <td>http://www.nndb.com/people/879/000347835/</td>\n",
       "    </tr>\n",
       "    <tr>\n",
       "      <th>2330</th>\n",
       "      <td>Coralie Fargeat</td>\n",
       "      <td>DIRECTING</td>\n",
       "      <td>The Substance</td>\n",
       "      <td>False</td>\n",
       "      <td>2025</td>\n",
       "      <td>1976-11-24</td>\n",
       "      <td>NaN</td>\n",
       "      <td>Female</td>\n",
       "      <td>White</td>\n",
       "      <td>NaN</td>\n",
       "      <td>NaN</td>\n",
       "      <td>https://www.imdb.com/fr/name/nm0267287/</td>\n",
       "    </tr>\n",
       "    <tr>\n",
       "      <th>2329</th>\n",
       "      <td>Jacques Audiard</td>\n",
       "      <td>DIRECTING</td>\n",
       "      <td>Emilia Pérez</td>\n",
       "      <td>False</td>\n",
       "      <td>2025</td>\n",
       "      <td>1952-04-30</td>\n",
       "      <td>Paris, France</td>\n",
       "      <td>Male</td>\n",
       "      <td>White</td>\n",
       "      <td>NaN</td>\n",
       "      <td>NaN</td>\n",
       "      <td>http://www.nndb.com/people/230/000213588/</td>\n",
       "    </tr>\n",
       "    <tr>\n",
       "      <th>2328</th>\n",
       "      <td>James Mangold</td>\n",
       "      <td>DIRECTING</td>\n",
       "      <td>A Complete Unknown</td>\n",
       "      <td>False</td>\n",
       "      <td>2025</td>\n",
       "      <td>1963-12-16</td>\n",
       "      <td>New York City</td>\n",
       "      <td>Male</td>\n",
       "      <td>White</td>\n",
       "      <td>Straight</td>\n",
       "      <td>NaN</td>\n",
       "      <td>http://www.nndb.com/people/463/000163971/</td>\n",
       "    </tr>\n",
       "    <tr>\n",
       "      <th>2317</th>\n",
       "      <td>Cynthia Erivo</td>\n",
       "      <td>ACTRESS</td>\n",
       "      <td>Wicked</td>\n",
       "      <td>False</td>\n",
       "      <td>2025</td>\n",
       "      <td>1987-01-08</td>\n",
       "      <td>NaN</td>\n",
       "      <td>Female</td>\n",
       "      <td>Black</td>\n",
       "      <td>Straight</td>\n",
       "      <td>Roman Catholic</td>\n",
       "      <td>https://www.imdb.com/fr/name/nm7248827/</td>\n",
       "    </tr>\n",
       "  </tbody>\n",
       "</table>\n",
       "</div>"
      ],
      "text/plain": [
       "                 Name   Category                Film  Win_Oscar?  \\\n",
       "2310   Sebastian Stan      ACTOR      The Apprentice       False   \n",
       "2330  Coralie Fargeat  DIRECTING       The Substance       False   \n",
       "2329  Jacques Audiard  DIRECTING        Emilia Pérez       False   \n",
       "2328    James Mangold  DIRECTING  A Complete Unknown       False   \n",
       "2317    Cynthia Erivo    ACTRESS              Wicked       False   \n",
       "\n",
       "      Year_Ceremony  Birth_Date         Birth_Place  Gender Race or Ethnicity  \\\n",
       "2310           2025  1983-08-13  Constanta, Romania    Male             White   \n",
       "2330           2025  1976-11-24                 NaN  Female             White   \n",
       "2329           2025  1952-04-30       Paris, France    Male             White   \n",
       "2328           2025  1963-12-16       New York City    Male             White   \n",
       "2317           2025  1987-01-08                 NaN  Female             Black   \n",
       "\n",
       "     Sexual orientation        Religion  \\\n",
       "2310           Straight             NaN   \n",
       "2330                NaN             NaN   \n",
       "2329                NaN             NaN   \n",
       "2328           Straight             NaN   \n",
       "2317           Straight  Roman Catholic   \n",
       "\n",
       "                                           Link  \n",
       "2310  http://www.nndb.com/people/879/000347835/  \n",
       "2330    https://www.imdb.com/fr/name/nm0267287/  \n",
       "2329  http://www.nndb.com/people/230/000213588/  \n",
       "2328  http://www.nndb.com/people/463/000163971/  \n",
       "2317    https://www.imdb.com/fr/name/nm7248827/  "
      ]
     },
     "execution_count": 35,
     "metadata": {},
     "output_type": "execute_result"
    }
   ],
   "source": [
    "# Checking for last year ceremony of the dataset\n",
    "df.sort_values(by='Year_Ceremony', ascending=False).head(5)"
   ]
  },
  {
   "cell_type": "code",
   "execution_count": 34,
   "id": "0ebae787",
   "metadata": {},
   "outputs": [],
   "source": [
    "# Checking how many Na values are in the dataset, instead of NaN\n",
    "(df == 'Na').sum().sum()\n",
    "\n",
    "# Converting 'Na' to NaN\n",
    "df.replace('Na', np.nan, inplace=True)"
   ]
  },
  {
   "cell_type": "code",
   "execution_count": 39,
   "id": "6e89efbc",
   "metadata": {},
   "outputs": [
    {
     "data": {
      "text/plain": [
       "Name                     0\n",
       "Category                 0\n",
       "Film                     0\n",
       "Win_Oscar?               0\n",
       "Year_Ceremony            0\n",
       "Birth_Date               0\n",
       "Birth_Place             53\n",
       "Gender                   0\n",
       "Race or Ethnicity        4\n",
       "Sexual orientation     143\n",
       "Religion              1535\n",
       "Link                     0\n",
       "dtype: int64"
      ]
     },
     "execution_count": 39,
     "metadata": {},
     "output_type": "execute_result"
    }
   ],
   "source": [
    "# Checking for missing values\n",
    "df.isnull().sum()"
   ]
  },
  {
   "cell_type": "code",
   "execution_count": 44,
   "id": "28e931d6",
   "metadata": {},
   "outputs": [
    {
     "data": {
      "text/plain": [
       "Category\n",
       "DIRECTING                       483\n",
       "ACTRESS                         481\n",
       "ACTOR                           477\n",
       "ACTOR IN A SUPPORTING ROLE      445\n",
       "ACTRESS IN A SUPPORTING ROLE    445\n",
       "Name: count, dtype: int64"
      ]
     },
     "execution_count": 44,
     "metadata": {},
     "output_type": "execute_result"
    }
   ],
   "source": [
    "# Checking what are the categories in the dataset\n",
    "df['Category'].value_counts()"
   ]
  },
  {
   "cell_type": "markdown",
   "id": "2fe13ca1",
   "metadata": {},
   "source": [
    "How did the Gender of winning directors changed through time? "
   ]
  },
  {
   "cell_type": "code",
   "execution_count": 72,
   "id": "bd0e8ea1",
   "metadata": {},
   "outputs": [],
   "source": [
    "# Filtering by directors who won an Oscar\n",
    "df_winning_directors = df[\n",
    "    (df['Category'] == 'DIRECTING') &\n",
    "    (df['Win_Oscar?'] == True)\n",
    "]"
   ]
  },
  {
   "cell_type": "code",
   "execution_count": 87,
   "id": "da2d4b08",
   "metadata": {},
   "outputs": [],
   "source": [
    "# Checks how many Men and Women have won the Oscar for Best Director\n",
    "gender_directors = df_winning_directors['Gender'].value_counts()"
   ]
  },
  {
   "cell_type": "code",
   "execution_count": null,
   "id": "6e70168a",
   "metadata": {},
   "outputs": [
    {
     "data": {
      "image/png": "[encoded data removed]",
      "text/plain": [
       "<Figure size 600x600 with 1 Axes>"
      ]
     },
     "metadata": {},
     "output_type": "display_data"
    }
   ],
   "source": [
    "plt.figure(figsize=(6, 6))\n",
    "plt.pie(\n",
    "    gender_directors,\n",
    "    labels=gender_directors.index,\n",
    "    autopct='%1.1f%%',  # mostra porcentagem com uma casa decimal\n",
    "    colors=['steelblue', 'orange'],\n",
    "    startangle=90,\n",
    "    wedgeprops={'edgecolor': 'white'},\n",
    "    labeldistance=1.05  # afasta os rótulos do centro do gráfico\n",
    ")\n",
    "\n",
    "plt.title(\"Proporção de Vencedores de Melhor Direção por Gênero\")\n",
    "plt.axis('equal')  # deixa o gráfico redondinho\n",
    "plt.show()"
   ]
  },
  {
   "cell_type": "code",
   "execution_count": null,
   "id": "f9bb7545",
   "metadata": {},
   "outputs": [],
   "source": [
    "df_year_gender = df_winning_directors.groupby(['Year_Ceremony', 'Gender']).size().unstack(fill_value=0)"
   ]
  },
  {
   "cell_type": "code",
   "execution_count": 61,
   "id": "c3f51c59",
   "metadata": {},
   "outputs": [
    {
     "data": {
      "text/html": [
       "<div>\n",
       "<style scoped>\n",
       "    .dataframe tbody tr th:only-of-type {\n",
       "        vertical-align: middle;\n",
       "    }\n",
       "\n",
       "    .dataframe tbody tr th {\n",
       "        vertical-align: top;\n",
       "    }\n",
       "\n",
       "    .dataframe thead th {\n",
       "        text-align: right;\n",
       "    }\n",
       "</style>\n",
       "<table border=\"1\" class=\"dataframe\">\n",
       "  <thead>\n",
       "    <tr style=\"text-align: right;\">\n",
       "      <th>Gender</th>\n",
       "      <th>Female</th>\n",
       "      <th>Male</th>\n",
       "    </tr>\n",
       "    <tr>\n",
       "      <th>Year_Ceremony</th>\n",
       "      <th></th>\n",
       "      <th></th>\n",
       "    </tr>\n",
       "  </thead>\n",
       "  <tbody>\n",
       "    <tr>\n",
       "      <th>2025</th>\n",
       "      <td>0</td>\n",
       "      <td>1</td>\n",
       "    </tr>\n",
       "    <tr>\n",
       "      <th>2024</th>\n",
       "      <td>0</td>\n",
       "      <td>1</td>\n",
       "    </tr>\n",
       "    <tr>\n",
       "      <th>2023</th>\n",
       "      <td>0</td>\n",
       "      <td>1</td>\n",
       "    </tr>\n",
       "    <tr>\n",
       "      <th>2022</th>\n",
       "      <td>1</td>\n",
       "      <td>0</td>\n",
       "    </tr>\n",
       "    <tr>\n",
       "      <th>2021</th>\n",
       "      <td>1</td>\n",
       "      <td>0</td>\n",
       "    </tr>\n",
       "  </tbody>\n",
       "</table>\n",
       "</div>"
      ],
      "text/plain": [
       "Gender         Female  Male\n",
       "Year_Ceremony              \n",
       "2025                0     1\n",
       "2024                0     1\n",
       "2023                0     1\n",
       "2022                1     0\n",
       "2021                1     0"
      ]
     },
     "execution_count": 61,
     "metadata": {},
     "output_type": "execute_result"
    }
   ],
   "source": [
    "df_year_gender.sort_values(by='Year_Ceremony', ascending=False).head()"
   ]
  },
  {
   "cell_type": "code",
   "execution_count": 81,
   "id": "97ccaa44",
   "metadata": {},
   "outputs": [
    {
     "data": {
      "image/png": "[encoded data removed]",
      "text/plain": [
       "<Figure size 1200x600 with 1 Axes>"
      ]
     },
     "metadata": {},
     "output_type": "display_data"
    }
   ],
   "source": [
    "# Visualizing the data\n",
    "import matplotlib.pyplot as plt\n",
    "\n",
    "df_year_gender.plot(kind='bar', stacked=True, figsize=(12,6))\n",
    "plt.title(\"Vencedores de Melhor Direção por Gênero ao Longo dos Anos\")\n",
    "plt.xlabel(\"Ano da Cerimônia\")\n",
    "plt.ylabel(\"Número de Vencedores\")\n",
    "plt.legend(title=\"Gênero\")\n",
    "plt.tight_layout()\n",
    "plt.show()"
   ]
  },
  {
   "cell_type": "code",
   "execution_count": null,
   "id": "3e185cef",
   "metadata": {},
   "outputs": [
    {
     "data": {
      "text/html": [
       "<div>\n",
       "<style scoped>\n",
       "    .dataframe tbody tr th:only-of-type {\n",
       "        vertical-align: middle;\n",
       "    }\n",
       "\n",
       "    .dataframe tbody tr th {\n",
       "        vertical-align: top;\n",
       "    }\n",
       "\n",
       "    .dataframe thead th {\n",
       "        text-align: right;\n",
       "    }\n",
       "</style>\n",
       "<table border=\"1\" class=\"dataframe\">\n",
       "  <thead>\n",
       "    <tr style=\"text-align: right;\">\n",
       "      <th></th>\n",
       "      <th>Name</th>\n",
       "      <th>Category</th>\n",
       "      <th>Film</th>\n",
       "      <th>Win_Oscar?</th>\n",
       "      <th>Year_Ceremony</th>\n",
       "      <th>Birth_Date</th>\n",
       "      <th>Birth_Place</th>\n",
       "      <th>Gender</th>\n",
       "      <th>Race or Ethnicity</th>\n",
       "      <th>Sexual orientation</th>\n",
       "      <th>Religion</th>\n",
       "      <th>Link</th>\n",
       "    </tr>\n",
       "  </thead>\n",
       "  <tbody>\n",
       "    <tr>\n",
       "      <th>1902</th>\n",
       "      <td>Ethan Coen</td>\n",
       "      <td>DIRECTING</td>\n",
       "      <td>No Country for Old Men</td>\n",
       "      <td>True</td>\n",
       "      <td>2008</td>\n",
       "      <td>1957-09-21</td>\n",
       "      <td>St. Louis Park, MN</td>\n",
       "      <td>Male</td>\n",
       "      <td>White</td>\n",
       "      <td>Straight</td>\n",
       "      <td>Jewish</td>\n",
       "      <td>/people/400/000025325/</td>\n",
       "    </tr>\n",
       "    <tr>\n",
       "      <th>1903</th>\n",
       "      <td>Joel Coen</td>\n",
       "      <td>DIRECTING</td>\n",
       "      <td>No Country for Old Men</td>\n",
       "      <td>True</td>\n",
       "      <td>2008</td>\n",
       "      <td>1954-11-29</td>\n",
       "      <td>St. Louis Park, MN</td>\n",
       "      <td>Male</td>\n",
       "      <td>White</td>\n",
       "      <td>Straight</td>\n",
       "      <td>Jewish</td>\n",
       "      <td>/people/399/000025324/</td>\n",
       "    </tr>\n",
       "  </tbody>\n",
       "</table>\n",
       "</div>"
      ],
      "text/plain": [
       "            Name   Category                    Film  Win_Oscar?  \\\n",
       "1902  Ethan Coen  DIRECTING  No Country for Old Men        True   \n",
       "1903   Joel Coen  DIRECTING  No Country for Old Men        True   \n",
       "\n",
       "      Year_Ceremony  Birth_Date         Birth_Place Gender Race or Ethnicity  \\\n",
       "1902           2008  1957-09-21  St. Louis Park, MN   Male             White   \n",
       "1903           2008  1954-11-29  St. Louis Park, MN   Male             White   \n",
       "\n",
       "     Sexual orientation Religion                    Link  \n",
       "1902           Straight   Jewish  /people/400/000025325/  \n",
       "1903           Straight   Jewish  /people/399/000025324/  "
      ]
     },
     "execution_count": 69,
     "metadata": {},
     "output_type": "execute_result"
    }
   ],
   "source": [
    "# Checking lines where the data says that two directors won the Oscar in the same year\n",
    "df_winning_directors[df_winning_directors['Year_Ceremony'] == 1928] # This year had two winners for Best Director because it was divided into two categories: Best Director (Comedy) and Best Director (Drama).\n",
    "df_winning_directors[df_winning_directors['Year_Ceremony'] == 1962] # This year had two winners for Best Director because 'West Side Story' was directed by two people, Jerome Robbins and Robert Wise (first time this happened)\n",
    "df_winning_directors[df_winning_directors['Year_Ceremony'] == 2008] # This year had two winners for Best Director because 'No Country for Old Men' was directed by two people, Joel and Ethan Coen."
   ]
  }
 ],
 "metadata": {
  "kernelspec": {
   "display_name": "Python (Data Science and AI)",
   "language": "python",
   "name": "ai_study"
  },
  "language_info": {
   "codemirror_mode": {
    "name": "ipython",
    "version": 3
   },
   "file_extension": ".py",
   "mimetype": "text/x-python",
   "name": "python",
   "nbconvert_exporter": "python",
   "pygments_lexer": "ipython3",
   "version": "3.11.11"
  }
 },
 "nbformat": 4,
 "nbformat_minor": 5
}
